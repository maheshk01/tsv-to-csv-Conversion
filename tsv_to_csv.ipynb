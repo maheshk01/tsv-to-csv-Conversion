{
 "cells": [
  {
   "cell_type": "code",
   "execution_count": 3,
   "metadata": {
    "scrolled": true
   },
   "outputs": [
    {
     "name": "stdout",
     "output_type": "stream",
     "text": [
      "Converting the file.. Please wait!!\n",
      "The file has been successfully converted\n"
     ]
    }
   ],
   "source": [
    "import io\n",
    "import re\n",
    "\n",
    "def convert_tsv_to_csv(file_name):\n",
    "    csv=io.open(file_name + \".csv\", mode=\"w\",encoding=\"utf-8\")\n",
    "    \n",
    "    with io.open(file_name + \".tsv\", mode=\"r\", encoding= \"utf-8\") as tsv:\n",
    "        for line in tsv:\n",
    "             csv.write(re.sub('\\t',',',re.sub('(^|[\\t])([^\\t]*\\,[^\\t\\n]*)', r'\\1\"\\2\"', line)))\n",
    "                \n",
    "    csv.close()\n",
    "    \n",
    "if __name__=='__main__':\n",
    "    print('Converting the file.. Please wait!!')\n",
    "    convert_tsv_to_csv('data')\n",
    "    print('The file has been successfully converted')\n",
    "    "
   ]
  },
  {
   "cell_type": "code",
   "execution_count": null,
   "metadata": {},
   "outputs": [],
   "source": []
  }
 ],
 "metadata": {
  "kernelspec": {
   "display_name": "Python 3",
   "language": "python",
   "name": "python3"
  },
  "language_info": {
   "codemirror_mode": {
    "name": "ipython",
    "version": 3
   },
   "file_extension": ".py",
   "mimetype": "text/x-python",
   "name": "python",
   "nbconvert_exporter": "python",
   "pygments_lexer": "ipython3",
   "version": "3.8.3"
  }
 },
 "nbformat": 4,
 "nbformat_minor": 4
}
